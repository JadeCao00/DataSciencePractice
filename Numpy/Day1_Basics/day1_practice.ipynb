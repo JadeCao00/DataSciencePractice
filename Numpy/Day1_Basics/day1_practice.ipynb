{
 "cells": [
  {
   "cell_type": "markdown",
   "id": "d682e7fa-6c42-47eb-b0e8-61196c9b82ae",
   "metadata": {},
   "source": [
    "1. 导入numpy库，并命名为np，打印numpy版本"
   ]
  },
  {
   "cell_type": "code",
   "execution_count": 1,
   "id": "b8b7d326-08b5-456a-9b3d-feb9a3e40ddd",
   "metadata": {},
   "outputs": [
    {
     "name": "stdout",
     "output_type": "stream",
     "text": [
      "1.24.3\n"
     ]
    }
   ],
   "source": [
    "import numpy as np\n",
    "\n",
    "print(np.__version__)"
   ]
  },
  {
   "cell_type": "markdown",
   "id": "f6ebf1c4-62fe-4bf7-9394-5a423ac0ab63",
   "metadata": {},
   "source": [
    "2. 使用数值n=1000000对比python原生列表跟numpy计算的时差"
   ]
  },
  {
   "cell_type": "code",
   "execution_count": null,
   "id": "59e20af0-a3cd-4bdd-a0ef-873588fda18f",
   "metadata": {},
   "outputs": [],
   "source": [
    "import time\n",
    "\n",
    "n = 1000000\n",
    "start_time = time.time()\n",
    "python_list = list(range(n))\n",
    "\n",
    "for i in range(n):\n",
    "    python_list[i] += 1\n",
    "python_time = time.time() - start_time\n",
    "print(f'python列表执行的时间为:{python_time:6f}秒')\n",
    "\n",
    "start_time = time.time()\n",
    "numpy_array = np.arange(n)\n",
    "numpy_array += 1\n",
    "numpy_time = time.time() - start_time\n",
    "print(f'numpy执行的时间为:{numpy_time:6f}秒')\n",
    "\n",
    "final = python_time/numpy_time\n",
    "print(f'numpy比python列表快{final:.2f}倍')"
   ]
  },
  {
   "cell_type": "markdown",
   "id": "6cd5b8fb-d8dc-4215-9b2b-e4d34b4af1fa",
   "metadata": {},
   "source": [
    "3. 创建一个大小为10的空向量"
   ]
  },
  {
   "cell_type": "code",
   "execution_count": 4,
   "id": "2b831698-e2c2-452d-a21b-b52bb2a6014b",
   "metadata": {},
   "outputs": [
    {
     "data": {
      "text/plain": [
       "array([0., 0., 0., 0., 0., 0., 0., 0., 0., 0.])"
      ]
     },
     "execution_count": 4,
     "metadata": {},
     "output_type": "execute_result"
    }
   ],
   "source": [
    "array = np.zeros(10)\n",
    "array"
   ]
  },
  {
   "cell_type": "markdown",
   "id": "561805b2-549f-413a-8846-6a49c363ad37",
   "metadata": {},
   "source": [
    "4. 如何找到任意数组的内存大小"
   ]
  },
  {
   "cell_type": "code",
   "execution_count": 7,
   "id": "737d3922-0651-4017-8cb5-af7e42bd0521",
   "metadata": {},
   "outputs": [
    {
     "data": {
      "text/plain": [
       "800"
      ]
     },
     "execution_count": 7,
     "metadata": {},
     "output_type": "execute_result"
    }
   ],
   "source": [
    "array = np.zeros((10,10))\n",
    "array.size * array.itemsize\n",
    "array.nbytes"
   ]
  },
  {
   "cell_type": "markdown",
   "id": "6ad09a56-a2a8-4c29-97d5-236a78f84508",
   "metadata": {},
   "source": [
    "5. 创建两个数组，分别指定32位的单精度浮点数和字符串类型"
   ]
  },
  {
   "cell_type": "code",
   "execution_count": 10,
   "id": "36b113e1-ee1c-44e9-ab9c-f0224c2d94f8",
   "metadata": {},
   "outputs": [
    {
     "name": "stdout",
     "output_type": "stream",
     "text": [
      "float32\n",
      "|S6\n"
     ]
    }
   ],
   "source": [
    "array = np.array([[1,2,3],[4,5,6]],dtype = np.float32)\n",
    "print(array.dtype)\n",
    "\n",
    "array_str = np.array(['python', 'php', 'java'],dtype = np.string_)\n",
    "print(array_str.dtype)"
   ]
  },
  {
   "cell_type": "markdown",
   "id": "e22795aa-29d3-4aed-b812-01e034194768",
   "metadata": {},
   "source": [
    "6. 创建一个大小为10的空向量，但第五个值为1"
   ]
  },
  {
   "cell_type": "code",
   "execution_count": 12,
   "id": "cd6969a8-1967-4c19-b8d5-a5e79bc1eba4",
   "metadata": {},
   "outputs": [
    {
     "data": {
      "text/plain": [
       "array([0., 0., 0., 0., 1., 0., 0., 0., 0., 0.])"
      ]
     },
     "execution_count": 12,
     "metadata": {},
     "output_type": "execute_result"
    }
   ],
   "source": [
    "array = np.zeros(10)\n",
    "array[4] = 1\n",
    "array"
   ]
  },
  {
   "cell_type": "markdown",
   "id": "8bc4441f-8f2c-40a1-9bbc-948905e27c53",
   "metadata": {},
   "source": [
    "7. 创建一个值，范围从10到49的向量"
   ]
  },
  {
   "cell_type": "code",
   "execution_count": 13,
   "id": "1a3202ba-dfe0-405a-91d9-af94b73b6edb",
   "metadata": {},
   "outputs": [
    {
     "data": {
      "text/plain": [
       "array([10, 11, 12, 13, 14, 15, 16, 17, 18, 19, 20, 21, 22, 23, 24, 25, 26,\n",
       "       27, 28, 29, 30, 31, 32, 33, 34, 35, 36, 37, 38, 39, 40, 41, 42, 43,\n",
       "       44, 45, 46, 47, 48, 49])"
      ]
     },
     "execution_count": 13,
     "metadata": {},
     "output_type": "execute_result"
    }
   ],
   "source": [
    "array = np.arange(10, 50)\n",
    "array"
   ]
  },
  {
   "cell_type": "markdown",
   "id": "73317efb-6bf5-4962-9215-8c33e3d972d1",
   "metadata": {},
   "source": [
    "8. 反转一个向量（第一个元素变为最后一个）"
   ]
  },
  {
   "cell_type": "code",
   "execution_count": 16,
   "id": "99bdf67b-9af9-4d3e-b604-7742a1263af8",
   "metadata": {},
   "outputs": [
    {
     "data": {
      "text/plain": [
       "array([9, 8, 7, 6, 5, 4, 3, 2, 1, 0])"
      ]
     },
     "execution_count": 16,
     "metadata": {},
     "output_type": "execute_result"
    }
   ],
   "source": [
    "array = np.arange(10)\n",
    "array[::-1]"
   ]
  },
  {
   "cell_type": "markdown",
   "id": "15ddbf6f-a4a7-4919-906e-8f2814aacfd8",
   "metadata": {},
   "source": [
    "9. 创建一个3x3的矩阵，值范围从0到8"
   ]
  },
  {
   "cell_type": "code",
   "execution_count": 17,
   "id": "7591a994-dd26-49ae-ab10-bfd340d605d9",
   "metadata": {},
   "outputs": [
    {
     "data": {
      "text/plain": [
       "array([[0, 1, 2],\n",
       "       [3, 4, 5],\n",
       "       [6, 7, 8]])"
      ]
     },
     "execution_count": 17,
     "metadata": {},
     "output_type": "execute_result"
    }
   ],
   "source": [
    "array = np.arange(9).reshape(3, 3)\n",
    "array"
   ]
  },
  {
   "cell_type": "markdown",
   "id": "18a87389-bb61-4eb3-937c-900b0b364269",
   "metadata": {},
   "source": [
    "10. 找到非零元素在[1,2,0,0,4,0]中的索引"
   ]
  },
  {
   "cell_type": "code",
   "execution_count": 18,
   "id": "030f3dcb-e86a-428a-bcea-82292a505150",
   "metadata": {},
   "outputs": [
    {
     "data": {
      "text/plain": [
       "(array([0, 1, 4], dtype=int64),)"
      ]
     },
     "execution_count": 18,
     "metadata": {},
     "output_type": "execute_result"
    }
   ],
   "source": [
    "nz = np.nonzero([1,2,0,0,4,0])\n",
    "nz"
   ]
  },
  {
   "cell_type": "markdown",
   "id": "9481fda0-b5bf-4b6b-a3b4-1c922e4b43ea",
   "metadata": {},
   "source": [
    "11. 创建一个3*3的单位矩阵"
   ]
  },
  {
   "cell_type": "code",
   "execution_count": 22,
   "id": "8cc3d30e-ca8d-4dfb-9bc2-043299513ec3",
   "metadata": {},
   "outputs": [
    {
     "data": {
      "text/plain": [
       "array([[1., 0., 0.],\n",
       "       [0., 1., 0.],\n",
       "       [0., 0., 1.]])"
      ]
     },
     "execution_count": 22,
     "metadata": {},
     "output_type": "execute_result"
    }
   ],
   "source": [
    "arr = np.eye(3)\n",
    "arr"
   ]
  },
  {
   "cell_type": "markdown",
   "id": "ada46355-a439-4f6c-85ae-99d5ede6a55d",
   "metadata": {},
   "source": [
    "12. 创建一个大小为3*3*3的随机值数组"
   ]
  },
  {
   "cell_type": "code",
   "execution_count": 23,
   "id": "7568bc20-8e08-43dc-8dd8-fdeeacd7f14a",
   "metadata": {},
   "outputs": [
    {
     "data": {
      "text/plain": [
       "array([[[0.45341364, 0.61820213, 0.08214266],\n",
       "        [0.82059168, 0.8595467 , 0.64829908],\n",
       "        [0.81445102, 0.48064237, 0.63892037]],\n",
       "\n",
       "       [[0.10636492, 0.95907926, 0.78220473],\n",
       "        [0.07074941, 0.81289857, 0.39680274],\n",
       "        [0.60106253, 0.14760891, 0.27176289]],\n",
       "\n",
       "       [[0.20314386, 0.6512686 , 0.57976693],\n",
       "        [0.14358746, 0.11267608, 0.41215654],\n",
       "        [0.82259659, 0.35311253, 0.43022769]]])"
      ]
     },
     "execution_count": 23,
     "metadata": {},
     "output_type": "execute_result"
    }
   ],
   "source": [
    "array = np.random.random((3, 3, 3))\n",
    "array"
   ]
  },
  {
   "cell_type": "markdown",
   "id": "ed9ba330-0e38-417c-9474-220b551c3e20",
   "metadata": {},
   "source": [
    "13. 创建一个10*10的随机值数组，并找到最小值和最大值"
   ]
  },
  {
   "cell_type": "code",
   "execution_count": 27,
   "id": "ee02f291-3b5e-44e2-9970-c7cd25461415",
   "metadata": {},
   "outputs": [
    {
     "name": "stdout",
     "output_type": "stream",
     "text": [
      "0.0037528096920537157 0.9929186076855461\n"
     ]
    }
   ],
   "source": [
    "array = np.random.random((10, 10))\n",
    "print(array.min(), array.max())"
   ]
  },
  {
   "cell_type": "markdown",
   "id": "7822ca4e-08d7-4f02-b7ac-81894c920d22",
   "metadata": {},
   "source": [
    "14. 创建一个大小为30的随机向量，并找到平均值"
   ]
  },
  {
   "cell_type": "code",
   "execution_count": 29,
   "id": "06db85e7-beb1-4c4e-bef4-ead1ec92c0da",
   "metadata": {},
   "outputs": [
    {
     "name": "stdout",
     "output_type": "stream",
     "text": [
      "[0.73620241 0.5509654  0.07965101 0.81726449 0.30718505 0.68250316\n",
      " 0.54071996 0.54668838 0.77126505 0.73621427 0.12915226 0.06183078\n",
      " 0.6385372  0.10943325 0.15548373 0.9205234  0.83776483 0.18833677\n",
      " 0.07216106 0.45681491 0.16531491 0.26677528 0.40667596 0.73179849\n",
      " 0.72470433 0.93972469 0.05412905 0.00362386 0.61903039 0.14059162]\n",
      "0.4463688644318282\n"
     ]
    }
   ],
   "source": [
    "array = np.random.random(30)\n",
    "m = array.mean()\n",
    "print(array)\n",
    "print(m)"
   ]
  },
  {
   "cell_type": "markdown",
   "id": "6a65ed7c-de65-4fbc-9ba8-46c781fd1601",
   "metadata": {},
   "source": [
    "15. 创建一个二维数组，边界为1，内部为0"
   ]
  },
  {
   "cell_type": "code",
   "execution_count": 31,
   "id": "1b0d4ad2-1b2f-4a61-b346-59fb7339a746",
   "metadata": {},
   "outputs": [
    {
     "data": {
      "text/plain": [
       "array([[1., 1., 1., 1., 1., 1., 1., 1., 1., 1.],\n",
       "       [1., 0., 0., 0., 0., 0., 0., 0., 0., 1.],\n",
       "       [1., 0., 0., 0., 0., 0., 0., 0., 0., 1.],\n",
       "       [1., 0., 0., 0., 0., 0., 0., 0., 0., 1.],\n",
       "       [1., 0., 0., 0., 0., 0., 0., 0., 0., 1.],\n",
       "       [1., 0., 0., 0., 0., 0., 0., 0., 0., 1.],\n",
       "       [1., 0., 0., 0., 0., 0., 0., 0., 0., 1.],\n",
       "       [1., 0., 0., 0., 0., 0., 0., 0., 0., 1.],\n",
       "       [1., 0., 0., 0., 0., 0., 0., 0., 0., 1.],\n",
       "       [1., 1., 1., 1., 1., 1., 1., 1., 1., 1.]])"
      ]
     },
     "execution_count": 31,
     "metadata": {},
     "output_type": "execute_result"
    }
   ],
   "source": [
    "array = np.ones((10, 10))\n",
    "array[1:-1, 1:-1] = 0\n",
    "array"
   ]
  },
  {
   "cell_type": "markdown",
   "id": "cc845349-6365-40ec-ad81-aef33ea43bdf",
   "metadata": {},
   "source": [
    "16. 如何在现有数组周围添加一个填充为0的边界？"
   ]
  },
  {
   "cell_type": "code",
   "execution_count": 34,
   "id": "5c015baf-94c7-4692-b134-b718712bf867",
   "metadata": {},
   "outputs": [
    {
     "name": "stdout",
     "output_type": "stream",
     "text": [
      "[[0. 0. 0. 0. 0.]\n",
      " [0. 1. 1. 1. 0.]\n",
      " [0. 1. 1. 1. 0.]\n",
      " [0. 1. 1. 1. 0.]\n",
      " [0. 0. 0. 0. 0.]]\n"
     ]
    }
   ],
   "source": [
    "# array = np.array([1, 2, 3])\n",
    "# zero_arr = np.zeros((3, len(array) + 2))\n",
    "\n",
    "# zero_arr[1,1:-1] = array\n",
    "# print(zero_arr)\n",
    "\n",
    "arr = np.ones((3,3))\n",
    "array = np.pad(arr, pad_width=1, constant_values = 0)\n",
    "print(array)"
   ]
  },
  {
   "cell_type": "markdown",
   "id": "b1349141-a697-4a0f-b9cb-c44e4df61bb3",
   "metadata": {},
   "source": [
    "17. 创建一个5*5的矩阵，值为1,2,3,4,5,位于对角线下方"
   ]
  },
  {
   "cell_type": "code",
   "execution_count": 38,
   "id": "b5d3f476-ef2e-4fd2-8944-0e61457ae158",
   "metadata": {},
   "outputs": [
    {
     "name": "stdout",
     "output_type": "stream",
     "text": [
      "[[1 0 0 0 0]\n",
      " [0 2 0 0 0]\n",
      " [0 0 3 0 0]\n",
      " [0 0 0 4 0]\n",
      " [0 0 0 0 5]]\n"
     ]
    }
   ],
   "source": [
    "array = np.diag(1+np.arange(5), k=0)\n",
    "print(array)"
   ]
  },
  {
   "cell_type": "markdown",
   "id": "fe9c9d23-be1e-41ed-96eb-8740651715f2",
   "metadata": {},
   "source": [
    "18. 创建一个8*8的矩阵，要求行列分别为0,1交替出现"
   ]
  },
  {
   "cell_type": "code",
   "execution_count": 43,
   "id": "dcefb8eb-3371-4cc5-b086-6951644febe3",
   "metadata": {},
   "outputs": [
    {
     "name": "stdout",
     "output_type": "stream",
     "text": [
      "[[0 1 0 1 0 1 0 1]\n",
      " [1 0 1 0 1 0 1 0]\n",
      " [0 1 0 1 0 1 0 1]\n",
      " [1 0 1 0 1 0 1 0]\n",
      " [0 1 0 1 0 1 0 1]\n",
      " [1 0 1 0 1 0 1 0]\n",
      " [0 1 0 1 0 1 0 1]\n",
      " [1 0 1 0 1 0 1 0]]\n"
     ]
    }
   ],
   "source": [
    "array = np.zeros((8,8),dtype=int)\n",
    "array[1::2, ::2] = 1\n",
    "array[::2,1::2] = 1\n",
    "print(array)"
   ]
  },
  {
   "cell_type": "markdown",
   "id": "d2559b20-7edc-416b-b380-9d308023b038",
   "metadata": {},
   "source": [
    "19. 一个shape为(6,7,8)的数组，第100个元素的索引(x,y,z)是什么？"
   ]
  },
  {
   "cell_type": "code",
   "execution_count": 44,
   "id": "2f6c4b06-5cf8-4320-b7c0-625587220150",
   "metadata": {},
   "outputs": [
    {
     "name": "stdout",
     "output_type": "stream",
     "text": [
      "(1, 5, 3)\n"
     ]
    }
   ],
   "source": [
    "shape = (6,7,8)\n",
    "index = 99\n",
    "res = np.unravel_index(99,shape)\n",
    "print(res)"
   ]
  },
  {
   "cell_type": "code",
   "execution_count": null,
   "id": "da5961de-0e33-4e16-8405-f87254dd23b2",
   "metadata": {},
   "outputs": [],
   "source": []
  }
 ],
 "metadata": {
  "kernelspec": {
   "display_name": "Python [conda env:myenv]",
   "language": "python",
   "name": "conda-env-myenv-py"
  },
  "language_info": {
   "codemirror_mode": {
    "name": "ipython",
    "version": 3
   },
   "file_extension": ".py",
   "mimetype": "text/x-python",
   "name": "python",
   "nbconvert_exporter": "python",
   "pygments_lexer": "ipython3",
   "version": "3.8.20"
  }
 },
 "nbformat": 4,
 "nbformat_minor": 5
}
