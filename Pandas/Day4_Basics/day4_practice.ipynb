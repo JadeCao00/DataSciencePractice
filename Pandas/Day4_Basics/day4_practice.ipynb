{
 "cells": [
  {
   "cell_type": "code",
   "execution_count": 2,
   "id": "d30bd49d-22f3-45fb-9a5c-1a2ffee59f78",
   "metadata": {},
   "outputs": [],
   "source": [
    "import pandas as pd"
   ]
  },
  {
   "cell_type": "markdown",
   "id": "eb0d72bc-c460-400b-b476-0caa51df36b7",
   "metadata": {},
   "source": [
    "1. 读取本地Meta股票csv数据"
   ]
  },
  {
   "cell_type": "code",
   "execution_count": 3,
   "id": "135df45b-30c8-4264-a83a-f6d72c6bc909",
   "metadata": {},
   "outputs": [
    {
     "data": {
      "text/html": [
       "<div>\n",
       "<style scoped>\n",
       "    .dataframe tbody tr th:only-of-type {\n",
       "        vertical-align: middle;\n",
       "    }\n",
       "\n",
       "    .dataframe tbody tr th {\n",
       "        vertical-align: top;\n",
       "    }\n",
       "\n",
       "    .dataframe thead th {\n",
       "        text-align: right;\n",
       "    }\n",
       "</style>\n",
       "<table border=\"1\" class=\"dataframe\">\n",
       "  <thead>\n",
       "    <tr style=\"text-align: right;\">\n",
       "      <th></th>\n",
       "      <th>Date</th>\n",
       "      <th>Open</th>\n",
       "      <th>High</th>\n",
       "      <th>Low</th>\n",
       "      <th>Close</th>\n",
       "      <th>Adj Close</th>\n",
       "      <th>Volume</th>\n",
       "    </tr>\n",
       "  </thead>\n",
       "  <tbody>\n",
       "    <tr>\n",
       "      <th>0</th>\n",
       "      <td>2012-05-18</td>\n",
       "      <td>42.050</td>\n",
       "      <td>45.000</td>\n",
       "      <td>38.000</td>\n",
       "      <td>38.230</td>\n",
       "      <td>38.085</td>\n",
       "      <td>573576400</td>\n",
       "    </tr>\n",
       "    <tr>\n",
       "      <th>1</th>\n",
       "      <td>2012-05-21</td>\n",
       "      <td>36.530</td>\n",
       "      <td>36.660</td>\n",
       "      <td>33.000</td>\n",
       "      <td>34.030</td>\n",
       "      <td>33.901</td>\n",
       "      <td>168192700</td>\n",
       "    </tr>\n",
       "    <tr>\n",
       "      <th>2</th>\n",
       "      <td>2012-05-22</td>\n",
       "      <td>32.610</td>\n",
       "      <td>33.590</td>\n",
       "      <td>30.940</td>\n",
       "      <td>31.000</td>\n",
       "      <td>30.882</td>\n",
       "      <td>101786600</td>\n",
       "    </tr>\n",
       "    <tr>\n",
       "      <th>3</th>\n",
       "      <td>2012-05-23</td>\n",
       "      <td>31.370</td>\n",
       "      <td>32.500</td>\n",
       "      <td>31.360</td>\n",
       "      <td>32.000</td>\n",
       "      <td>31.878</td>\n",
       "      <td>73600000</td>\n",
       "    </tr>\n",
       "    <tr>\n",
       "      <th>4</th>\n",
       "      <td>2012-05-24</td>\n",
       "      <td>32.950</td>\n",
       "      <td>33.210</td>\n",
       "      <td>31.770</td>\n",
       "      <td>33.030</td>\n",
       "      <td>32.904</td>\n",
       "      <td>50237200</td>\n",
       "    </tr>\n",
       "    <tr>\n",
       "      <th>...</th>\n",
       "      <td>...</td>\n",
       "      <td>...</td>\n",
       "      <td>...</td>\n",
       "      <td>...</td>\n",
       "      <td>...</td>\n",
       "      <td>...</td>\n",
       "      <td>...</td>\n",
       "    </tr>\n",
       "    <tr>\n",
       "      <th>3181</th>\n",
       "      <td>2025-01-13</td>\n",
       "      <td>607.100</td>\n",
       "      <td>608.970</td>\n",
       "      <td>598.450</td>\n",
       "      <td>608.330</td>\n",
       "      <td>608.330</td>\n",
       "      <td>10785000</td>\n",
       "    </tr>\n",
       "    <tr>\n",
       "      <th>3182</th>\n",
       "      <td>2025-01-14</td>\n",
       "      <td>605.070</td>\n",
       "      <td>605.490</td>\n",
       "      <td>588.550</td>\n",
       "      <td>594.250</td>\n",
       "      <td>594.250</td>\n",
       "      <td>13598000</td>\n",
       "    </tr>\n",
       "    <tr>\n",
       "      <th>3183</th>\n",
       "      <td>2025-01-15</td>\n",
       "      <td>610.210</td>\n",
       "      <td>622.460</td>\n",
       "      <td>606.500</td>\n",
       "      <td>617.120</td>\n",
       "      <td>617.120</td>\n",
       "      <td>15524300</td>\n",
       "    </tr>\n",
       "    <tr>\n",
       "      <th>3184</th>\n",
       "      <td>2025-01-16</td>\n",
       "      <td>611.500</td>\n",
       "      <td>616.250</td>\n",
       "      <td>609.710</td>\n",
       "      <td>611.300</td>\n",
       "      <td>611.300</td>\n",
       "      <td>8355300</td>\n",
       "    </tr>\n",
       "    <tr>\n",
       "      <th>3185</th>\n",
       "      <td>2025-01-17</td>\n",
       "      <td>624.050</td>\n",
       "      <td>624.970</td>\n",
       "      <td>603.670</td>\n",
       "      <td>612.770</td>\n",
       "      <td>612.770</td>\n",
       "      <td>17244000</td>\n",
       "    </tr>\n",
       "  </tbody>\n",
       "</table>\n",
       "<p>3186 rows × 7 columns</p>\n",
       "</div>"
      ],
      "text/plain": [
       "            Date    Open    High     Low   Close  Adj Close     Volume\n",
       "0     2012-05-18  42.050  45.000  38.000  38.230     38.085  573576400\n",
       "1     2012-05-21  36.530  36.660  33.000  34.030     33.901  168192700\n",
       "2     2012-05-22  32.610  33.590  30.940  31.000     30.882  101786600\n",
       "3     2012-05-23  31.370  32.500  31.360  32.000     31.878   73600000\n",
       "4     2012-05-24  32.950  33.210  31.770  33.030     32.904   50237200\n",
       "...          ...     ...     ...     ...     ...        ...        ...\n",
       "3181  2025-01-13 607.100 608.970 598.450 608.330    608.330   10785000\n",
       "3182  2025-01-14 605.070 605.490 588.550 594.250    594.250   13598000\n",
       "3183  2025-01-15 610.210 622.460 606.500 617.120    617.120   15524300\n",
       "3184  2025-01-16 611.500 616.250 609.710 611.300    611.300    8355300\n",
       "3185  2025-01-17 624.050 624.970 603.670 612.770    612.770   17244000\n",
       "\n",
       "[3186 rows x 7 columns]"
      ]
     },
     "execution_count": 3,
     "metadata": {},
     "output_type": "execute_result"
    }
   ],
   "source": [
    "data = pd.read_csv('META stocks.csv')\n",
    "pd.set_option('display.float_format', '{:,.3f}'.format) # 只显示小数点后三位的\n",
    "data"
   ]
  },
  {
   "cell_type": "markdown",
   "id": "140ac3ef-1c80-4742-a972-e5e96a34ad32",
   "metadata": {},
   "source": [
    "2. 查看数据前三行"
   ]
  },
  {
   "cell_type": "code",
   "execution_count": 4,
   "id": "f751f2d9-94cd-457a-bd50-a06f3254712a",
   "metadata": {},
   "outputs": [
    {
     "data": {
      "text/html": [
       "<div>\n",
       "<style scoped>\n",
       "    .dataframe tbody tr th:only-of-type {\n",
       "        vertical-align: middle;\n",
       "    }\n",
       "\n",
       "    .dataframe tbody tr th {\n",
       "        vertical-align: top;\n",
       "    }\n",
       "\n",
       "    .dataframe thead th {\n",
       "        text-align: right;\n",
       "    }\n",
       "</style>\n",
       "<table border=\"1\" class=\"dataframe\">\n",
       "  <thead>\n",
       "    <tr style=\"text-align: right;\">\n",
       "      <th></th>\n",
       "      <th>Date</th>\n",
       "      <th>Open</th>\n",
       "      <th>High</th>\n",
       "      <th>Low</th>\n",
       "      <th>Close</th>\n",
       "      <th>Adj Close</th>\n",
       "      <th>Volume</th>\n",
       "    </tr>\n",
       "  </thead>\n",
       "  <tbody>\n",
       "    <tr>\n",
       "      <th>0</th>\n",
       "      <td>2012-05-18</td>\n",
       "      <td>42.050</td>\n",
       "      <td>45.000</td>\n",
       "      <td>38.000</td>\n",
       "      <td>38.230</td>\n",
       "      <td>38.085</td>\n",
       "      <td>573576400</td>\n",
       "    </tr>\n",
       "    <tr>\n",
       "      <th>1</th>\n",
       "      <td>2012-05-21</td>\n",
       "      <td>36.530</td>\n",
       "      <td>36.660</td>\n",
       "      <td>33.000</td>\n",
       "      <td>34.030</td>\n",
       "      <td>33.901</td>\n",
       "      <td>168192700</td>\n",
       "    </tr>\n",
       "    <tr>\n",
       "      <th>2</th>\n",
       "      <td>2012-05-22</td>\n",
       "      <td>32.610</td>\n",
       "      <td>33.590</td>\n",
       "      <td>30.940</td>\n",
       "      <td>31.000</td>\n",
       "      <td>30.882</td>\n",
       "      <td>101786600</td>\n",
       "    </tr>\n",
       "  </tbody>\n",
       "</table>\n",
       "</div>"
      ],
      "text/plain": [
       "         Date   Open   High    Low  Close  Adj Close     Volume\n",
       "0  2012-05-18 42.050 45.000 38.000 38.230     38.085  573576400\n",
       "1  2012-05-21 36.530 36.660 33.000 34.030     33.901  168192700\n",
       "2  2012-05-22 32.610 33.590 30.940 31.000     30.882  101786600"
      ]
     },
     "execution_count": 4,
     "metadata": {},
     "output_type": "execute_result"
    }
   ],
   "source": [
    "data.head(3)"
   ]
  },
  {
   "cell_type": "markdown",
   "id": "dbdc433e-e30a-4d19-baca-6c2bbbf9c80c",
   "metadata": {},
   "source": [
    "3. 查看每列数据缺失值情况"
   ]
  },
  {
   "cell_type": "code",
   "execution_count": 5,
   "id": "32f48f1b-93da-4210-b1e0-94a0736e135e",
   "metadata": {},
   "outputs": [
    {
     "data": {
      "text/plain": [
       "Date         0\n",
       "Open         0\n",
       "High         0\n",
       "Low          0\n",
       "Close        0\n",
       "Adj Close    0\n",
       "Volume       0\n",
       "dtype: int64"
      ]
     },
     "execution_count": 5,
     "metadata": {},
     "output_type": "execute_result"
    }
   ],
   "source": [
    "data.isnull().sum()"
   ]
  },
  {
   "cell_type": "markdown",
   "id": "1593a468-25a0-4b65-84d8-5b14bc6e882e",
   "metadata": {},
   "source": [
    "4. 提取交易日期列含有空值的值"
   ]
  },
  {
   "cell_type": "code",
   "execution_count": 6,
   "id": "9c64f197-de5c-4807-8dd6-e733f0695413",
   "metadata": {},
   "outputs": [
    {
     "data": {
      "text/plain": [
       "0       False\n",
       "1       False\n",
       "2       False\n",
       "3       False\n",
       "4       False\n",
       "        ...  \n",
       "3181    False\n",
       "3182    False\n",
       "3183    False\n",
       "3184    False\n",
       "3185    False\n",
       "Name: Date, Length: 3186, dtype: bool"
      ]
     },
     "execution_count": 6,
     "metadata": {},
     "output_type": "execute_result"
    }
   ],
   "source": [
    "data['Date'].isnull()"
   ]
  },
  {
   "cell_type": "markdown",
   "id": "d137bbf2-6ff4-4123-8807-0fcf9c2dc41d",
   "metadata": {},
   "source": [
    "5.输出每列缺失值具体行数"
   ]
  },
  {
   "cell_type": "code",
   "execution_count": 7,
   "id": "57e3b07c-e41b-4aa3-866f-95c92b8f12b4",
   "metadata": {},
   "outputs": [
    {
     "name": "stdout",
     "output_type": "stream",
     "text": [
      "Date\n",
      "列名:\"Date\"，第[]行位置缺失值\n",
      "Open\n",
      "列名:\"Open\"，第[]行位置缺失值\n",
      "High\n",
      "列名:\"High\"，第[]行位置缺失值\n",
      "Low\n",
      "列名:\"Low\"，第[]行位置缺失值\n",
      "Close\n",
      "列名:\"Close\"，第[]行位置缺失值\n",
      "Adj Close\n",
      "列名:\"Adj Close\"，第[]行位置缺失值\n",
      "Volume\n",
      "列名:\"Volume\"，第[]行位置缺失值\n"
     ]
    }
   ],
   "source": [
    "for column_name in data.columns:\n",
    "    print(column_name)\n",
    "    if data[column_name].count != len(data):\n",
    "        loc = data[column_name][data[column_name].isnull().values==True].index.tolist()\n",
    "        print(f'列名:\"{column_name}\"，第{loc}行位置缺失值')"
   ]
  },
  {
   "cell_type": "markdown",
   "id": "93617126-1cb3-4f0b-956c-a15b6c316fce",
   "metadata": {},
   "source": [
    "6. 删除所有存在缺失值的行"
   ]
  },
  {
   "cell_type": "code",
   "execution_count": 8,
   "id": "a7d5fcba-96c7-459b-a958-d4f3e8a4ff66",
   "metadata": {},
   "outputs": [],
   "source": [
    "data.dropna(axis=0, how='any', inplace=True)"
   ]
  },
  {
   "cell_type": "markdown",
   "id": "d738efb4-2bbd-4622-b548-88c130d2d5f1",
   "metadata": {},
   "source": [
    "7.绘制收盘价的折线图"
   ]
  },
  {
   "cell_type": "code",
   "execution_count": 9,
   "id": "7afd97a5-e63c-4149-9c01-d2918ba5e4cc",
   "metadata": {},
   "outputs": [
    {
     "data": {
      "image/png": "[encoded data removed]",
      "text/plain": [
       "<Figure size 600x450 with 1 Axes>"
      ]
     },
     "metadata": {},
     "output_type": "display_data"
    },
    {
     "data": {
      "text/plain": [
       "[<matplotlib.lines.Line2D at 0x2c9d394a490>]"
      ]
     },
     "execution_count": 9,
     "metadata": {},
     "output_type": "execute_result"
    },
    {
     "data": {
      "image/png": "[encoded data removed]",
      "text/plain": [
       "<Figure size 600x450 with 1 Axes>"
      ]
     },
     "metadata": {},
     "output_type": "display_data"
    }
   ],
   "source": [
    "import matplotlib.pyplot as plt\n",
    "\n",
    "plt.rc('font', size=5)\n",
    "\n",
    "plt.rc('figure', figsize=(4,3), dpi=150)\n",
    "\n",
    "data['Close'].plot()\n",
    "plt.show()\n",
    "\n",
    "plt.plot(data['Close'])"
   ]
  },
  {
   "cell_type": "markdown",
   "id": "a0f4df4e-a756-452e-a3f4-006a60ce464c",
   "metadata": {},
   "source": [
    "8. 同时绘制开盘价和收盘价"
   ]
  },
  {
   "cell_type": "code",
   "execution_count": 10,
   "id": "be0c06d0-0c63-4918-9352-2840b697dae5",
   "metadata": {},
   "outputs": [
    {
     "data": {
      "text/plain": [
       "<Axes: >"
      ]
     },
     "execution_count": 10,
     "metadata": {},
     "output_type": "execute_result"
    },
    {
     "data": {
      "image/png": "[encoded data removed]",
      "text/plain": [
       "<Figure size 600x450 with 1 Axes>"
      ]
     },
     "metadata": {},
     "output_type": "display_data"
    }
   ],
   "source": [
    "data[['Close','Open']].plot()"
   ]
  },
  {
   "cell_type": "markdown",
   "id": "d9e56543-e5cd-4edb-94a9-aa9c8ac72b8e",
   "metadata": {},
   "source": [
    "9.绘制振幅的直方图"
   ]
  },
  {
   "cell_type": "code",
   "execution_count": 11,
   "id": "1ad77c31-fcc6-4ebb-b725-5325a67307c8",
   "metadata": {},
   "outputs": [
    {
     "data": {
      "text/plain": [
       "(array([1.399e+03, 1.304e+03, 3.480e+02, 9.100e+01, 2.800e+01, 1.000e+01,\n",
       "        4.000e+00, 1.000e+00, 0.000e+00, 1.000e+00]),\n",
       " array([ 0.37214935,  2.17703968,  3.98193001,  5.78682034,  7.59171066,\n",
       "         9.39660099, 11.20149132, 13.00638165, 14.81127198, 16.6161623 ,\n",
       "        18.42105263]),\n",
       " <BarContainer object of 10 artists>)"
      ]
     },
     "execution_count": 11,
     "metadata": {},
     "output_type": "execute_result"
    },
    {
     "data": {
      "image/png": "[encoded data removed]",
      "text/plain": [
       "<Figure size 600x450 with 1 Axes>"
      ]
     },
     "metadata": {},
     "output_type": "display_data"
    }
   ],
   "source": [
    "data['Amplitude'] = (data['High'] - data['Low']) / data['Low'] * 100\n",
    "data\n",
    "\n",
    "plt.hist(data['Amplitude'])"
   ]
  },
  {
   "cell_type": "markdown",
   "id": "342a8cc5-8fdc-480d-aeba-f473420b4a94",
   "metadata": {},
   "source": [
    "10. 让直方图更加细致"
   ]
  },
  {
   "cell_type": "code",
   "execution_count": 12,
   "id": "77f0d086-067c-4edf-8906-a8944eb75bc3",
   "metadata": {},
   "outputs": [
    {
     "data": {
      "text/plain": [
       "<Axes: >"
      ]
     },
     "execution_count": 12,
     "metadata": {},
     "output_type": "execute_result"
    },
    {
     "data": {
      "image/png": "[encoded data removed]",
      "text/plain": [
       "<Figure size 600x450 with 1 Axes>"
      ]
     },
     "metadata": {},
     "output_type": "display_data"
    }
   ],
   "source": [
    "data['Amplitude'].hist(bins=30)"
   ]
  },
  {
   "cell_type": "markdown",
   "id": "79b5f830-b74d-4e06-81b3-b52f30165941",
   "metadata": {},
   "source": [
    "11. 以data的列名创建一个dataframe"
   ]
  },
  {
   "cell_type": "code",
   "execution_count": 13,
   "id": "7cce6e33-dc3c-4684-95d2-72375a6abcb8",
   "metadata": {},
   "outputs": [
    {
     "data": {
      "text/html": [
       "<div>\n",
       "<style scoped>\n",
       "    .dataframe tbody tr th:only-of-type {\n",
       "        vertical-align: middle;\n",
       "    }\n",
       "\n",
       "    .dataframe tbody tr th {\n",
       "        vertical-align: top;\n",
       "    }\n",
       "\n",
       "    .dataframe thead th {\n",
       "        text-align: right;\n",
       "    }\n",
       "</style>\n",
       "<table border=\"1\" class=\"dataframe\">\n",
       "  <thead>\n",
       "    <tr style=\"text-align: right;\">\n",
       "      <th></th>\n",
       "      <th>Date</th>\n",
       "      <th>Open</th>\n",
       "      <th>High</th>\n",
       "      <th>Low</th>\n",
       "      <th>Close</th>\n",
       "      <th>Adj Close</th>\n",
       "      <th>Volume</th>\n",
       "      <th>Amplitude</th>\n",
       "    </tr>\n",
       "  </thead>\n",
       "  <tbody>\n",
       "  </tbody>\n",
       "</table>\n",
       "</div>"
      ],
      "text/plain": [
       "Empty DataFrame\n",
       "Columns: [Date, Open, High, Low, Close, Adj Close, Volume, Amplitude]\n",
       "Index: []"
      ]
     },
     "execution_count": 13,
     "metadata": {},
     "output_type": "execute_result"
    }
   ],
   "source": [
    "temp = pd.DataFrame(columns=data.columns.to_list())\n",
    "temp"
   ]
  },
  {
   "cell_type": "markdown",
   "id": "b11c68d2-141b-4576-b6ba-b0e245ef0330",
   "metadata": {},
   "source": [
    "12. 打印所有成交量不是数字的行"
   ]
  },
  {
   "cell_type": "code",
   "execution_count": 14,
   "id": "8317d8bc-8129-47e6-8ab6-e46773c8acd6",
   "metadata": {},
   "outputs": [
    {
     "data": {
      "text/html": [
       "<div>\n",
       "<style scoped>\n",
       "    .dataframe tbody tr th:only-of-type {\n",
       "        vertical-align: middle;\n",
       "    }\n",
       "\n",
       "    .dataframe tbody tr th {\n",
       "        vertical-align: top;\n",
       "    }\n",
       "\n",
       "    .dataframe thead th {\n",
       "        text-align: right;\n",
       "    }\n",
       "</style>\n",
       "<table border=\"1\" class=\"dataframe\">\n",
       "  <thead>\n",
       "    <tr style=\"text-align: right;\">\n",
       "      <th></th>\n",
       "      <th>Date</th>\n",
       "      <th>Open</th>\n",
       "      <th>High</th>\n",
       "      <th>Low</th>\n",
       "      <th>Close</th>\n",
       "      <th>Adj Close</th>\n",
       "      <th>Volume</th>\n",
       "      <th>Amplitude</th>\n",
       "    </tr>\n",
       "  </thead>\n",
       "  <tbody>\n",
       "  </tbody>\n",
       "</table>\n",
       "</div>"
      ],
      "text/plain": [
       "Empty DataFrame\n",
       "Columns: [Date, Open, High, Low, Close, Adj Close, Volume, Amplitude]\n",
       "Index: []"
      ]
     },
     "execution_count": 14,
     "metadata": {},
     "output_type": "execute_result"
    }
   ],
   "source": [
    "data['Volume'] = pd.to_numeric(data['Volume'], errors='coerce') #Pandas数据转换时遇到不能转换的数据转为NaN的参数设置\n",
    "rows = data[data['Volume'].isnull()]\n",
    "rows"
   ]
  },
  {
   "cell_type": "markdown",
   "id": "7056ff28-4b1f-451a-b627-7882bb4d803b",
   "metadata": {},
   "source": [
    "13. 打印所有成交量为--的行"
   ]
  },
  {
   "cell_type": "code",
   "execution_count": 15,
   "id": "a615ec0f-5b51-4c63-87d4-89e8cbd42047",
   "metadata": {},
   "outputs": [
    {
     "data": {
      "text/html": [
       "<div>\n",
       "<style scoped>\n",
       "    .dataframe tbody tr th:only-of-type {\n",
       "        vertical-align: middle;\n",
       "    }\n",
       "\n",
       "    .dataframe tbody tr th {\n",
       "        vertical-align: top;\n",
       "    }\n",
       "\n",
       "    .dataframe thead th {\n",
       "        text-align: right;\n",
       "    }\n",
       "</style>\n",
       "<table border=\"1\" class=\"dataframe\">\n",
       "  <thead>\n",
       "    <tr style=\"text-align: right;\">\n",
       "      <th></th>\n",
       "      <th>Date</th>\n",
       "      <th>Open</th>\n",
       "      <th>High</th>\n",
       "      <th>Low</th>\n",
       "      <th>Close</th>\n",
       "      <th>Adj Close</th>\n",
       "      <th>Volume</th>\n",
       "      <th>Amplitude</th>\n",
       "    </tr>\n",
       "  </thead>\n",
       "  <tbody>\n",
       "  </tbody>\n",
       "</table>\n",
       "</div>"
      ],
      "text/plain": [
       "Empty DataFrame\n",
       "Columns: [Date, Open, High, Low, Close, Adj Close, Volume, Amplitude]\n",
       "Index: []"
      ]
     },
     "execution_count": 15,
     "metadata": {},
     "output_type": "execute_result"
    }
   ],
   "source": [
    "res_rows = data[data['Volume'] == '--']\n",
    "res_rows"
   ]
  },
  {
   "cell_type": "markdown",
   "id": "f3b353c2-7eb8-48d2-9972-4122ab0f256c",
   "metadata": {},
   "source": [
    "14.重置data的行号"
   ]
  },
  {
   "cell_type": "code",
   "execution_count": 16,
   "id": "ed4fe1ae-0d3e-471e-8381-70bad495c984",
   "metadata": {},
   "outputs": [
    {
     "data": {
      "text/html": [
       "<div>\n",
       "<style scoped>\n",
       "    .dataframe tbody tr th:only-of-type {\n",
       "        vertical-align: middle;\n",
       "    }\n",
       "\n",
       "    .dataframe tbody tr th {\n",
       "        vertical-align: top;\n",
       "    }\n",
       "\n",
       "    .dataframe thead th {\n",
       "        text-align: right;\n",
       "    }\n",
       "</style>\n",
       "<table border=\"1\" class=\"dataframe\">\n",
       "  <thead>\n",
       "    <tr style=\"text-align: right;\">\n",
       "      <th></th>\n",
       "      <th>Date</th>\n",
       "      <th>Open</th>\n",
       "      <th>High</th>\n",
       "      <th>Low</th>\n",
       "      <th>Close</th>\n",
       "      <th>Adj Close</th>\n",
       "      <th>Volume</th>\n",
       "      <th>Amplitude</th>\n",
       "    </tr>\n",
       "  </thead>\n",
       "  <tbody>\n",
       "    <tr>\n",
       "      <th>0</th>\n",
       "      <td>2012-05-18</td>\n",
       "      <td>42.050</td>\n",
       "      <td>45.000</td>\n",
       "      <td>38.000</td>\n",
       "      <td>38.230</td>\n",
       "      <td>38.085</td>\n",
       "      <td>573576400</td>\n",
       "      <td>18.421</td>\n",
       "    </tr>\n",
       "    <tr>\n",
       "      <th>1</th>\n",
       "      <td>2012-05-21</td>\n",
       "      <td>36.530</td>\n",
       "      <td>36.660</td>\n",
       "      <td>33.000</td>\n",
       "      <td>34.030</td>\n",
       "      <td>33.901</td>\n",
       "      <td>168192700</td>\n",
       "      <td>11.091</td>\n",
       "    </tr>\n",
       "    <tr>\n",
       "      <th>2</th>\n",
       "      <td>2012-05-22</td>\n",
       "      <td>32.610</td>\n",
       "      <td>33.590</td>\n",
       "      <td>30.940</td>\n",
       "      <td>31.000</td>\n",
       "      <td>30.882</td>\n",
       "      <td>101786600</td>\n",
       "      <td>8.565</td>\n",
       "    </tr>\n",
       "    <tr>\n",
       "      <th>3</th>\n",
       "      <td>2012-05-23</td>\n",
       "      <td>31.370</td>\n",
       "      <td>32.500</td>\n",
       "      <td>31.360</td>\n",
       "      <td>32.000</td>\n",
       "      <td>31.878</td>\n",
       "      <td>73600000</td>\n",
       "      <td>3.635</td>\n",
       "    </tr>\n",
       "    <tr>\n",
       "      <th>4</th>\n",
       "      <td>2012-05-24</td>\n",
       "      <td>32.950</td>\n",
       "      <td>33.210</td>\n",
       "      <td>31.770</td>\n",
       "      <td>33.030</td>\n",
       "      <td>32.904</td>\n",
       "      <td>50237200</td>\n",
       "      <td>4.533</td>\n",
       "    </tr>\n",
       "    <tr>\n",
       "      <th>...</th>\n",
       "      <td>...</td>\n",
       "      <td>...</td>\n",
       "      <td>...</td>\n",
       "      <td>...</td>\n",
       "      <td>...</td>\n",
       "      <td>...</td>\n",
       "      <td>...</td>\n",
       "      <td>...</td>\n",
       "    </tr>\n",
       "    <tr>\n",
       "      <th>3181</th>\n",
       "      <td>2025-01-13</td>\n",
       "      <td>607.100</td>\n",
       "      <td>608.970</td>\n",
       "      <td>598.450</td>\n",
       "      <td>608.330</td>\n",
       "      <td>608.330</td>\n",
       "      <td>10785000</td>\n",
       "      <td>1.758</td>\n",
       "    </tr>\n",
       "    <tr>\n",
       "      <th>3182</th>\n",
       "      <td>2025-01-14</td>\n",
       "      <td>605.070</td>\n",
       "      <td>605.490</td>\n",
       "      <td>588.550</td>\n",
       "      <td>594.250</td>\n",
       "      <td>594.250</td>\n",
       "      <td>13598000</td>\n",
       "      <td>2.878</td>\n",
       "    </tr>\n",
       "    <tr>\n",
       "      <th>3183</th>\n",
       "      <td>2025-01-15</td>\n",
       "      <td>610.210</td>\n",
       "      <td>622.460</td>\n",
       "      <td>606.500</td>\n",
       "      <td>617.120</td>\n",
       "      <td>617.120</td>\n",
       "      <td>15524300</td>\n",
       "      <td>2.631</td>\n",
       "    </tr>\n",
       "    <tr>\n",
       "      <th>3184</th>\n",
       "      <td>2025-01-16</td>\n",
       "      <td>611.500</td>\n",
       "      <td>616.250</td>\n",
       "      <td>609.710</td>\n",
       "      <td>611.300</td>\n",
       "      <td>611.300</td>\n",
       "      <td>8355300</td>\n",
       "      <td>1.073</td>\n",
       "    </tr>\n",
       "    <tr>\n",
       "      <th>3185</th>\n",
       "      <td>2025-01-17</td>\n",
       "      <td>624.050</td>\n",
       "      <td>624.970</td>\n",
       "      <td>603.670</td>\n",
       "      <td>612.770</td>\n",
       "      <td>612.770</td>\n",
       "      <td>17244000</td>\n",
       "      <td>3.528</td>\n",
       "    </tr>\n",
       "  </tbody>\n",
       "</table>\n",
       "<p>3186 rows × 8 columns</p>\n",
       "</div>"
      ],
      "text/plain": [
       "            Date    Open    High     Low   Close  Adj Close     Volume  \\\n",
       "0     2012-05-18  42.050  45.000  38.000  38.230     38.085  573576400   \n",
       "1     2012-05-21  36.530  36.660  33.000  34.030     33.901  168192700   \n",
       "2     2012-05-22  32.610  33.590  30.940  31.000     30.882  101786600   \n",
       "3     2012-05-23  31.370  32.500  31.360  32.000     31.878   73600000   \n",
       "4     2012-05-24  32.950  33.210  31.770  33.030     32.904   50237200   \n",
       "...          ...     ...     ...     ...     ...        ...        ...   \n",
       "3181  2025-01-13 607.100 608.970 598.450 608.330    608.330   10785000   \n",
       "3182  2025-01-14 605.070 605.490 588.550 594.250    594.250   13598000   \n",
       "3183  2025-01-15 610.210 622.460 606.500 617.120    617.120   15524300   \n",
       "3184  2025-01-16 611.500 616.250 609.710 611.300    611.300    8355300   \n",
       "3185  2025-01-17 624.050 624.970 603.670 612.770    612.770   17244000   \n",
       "\n",
       "      Amplitude  \n",
       "0        18.421  \n",
       "1        11.091  \n",
       "2         8.565  \n",
       "3         3.635  \n",
       "4         4.533  \n",
       "...         ...  \n",
       "3181      1.758  \n",
       "3182      2.878  \n",
       "3183      2.631  \n",
       "3184      1.073  \n",
       "3185      3.528  \n",
       "\n",
       "[3186 rows x 8 columns]"
      ]
     },
     "execution_count": 16,
     "metadata": {},
     "output_type": "execute_result"
    }
   ],
   "source": [
    "data.reset_index()\n",
    "data"
   ]
  },
  {
   "cell_type": "markdown",
   "id": "2c6e7983-b49e-4a10-8543-34d0b50e3ffd",
   "metadata": {},
   "source": [
    "15.删除所有最低价为非数字的行"
   ]
  },
  {
   "cell_type": "code",
   "execution_count": 17,
   "id": "78bb5bd7-5bf6-4ce6-80f2-54e8e33f8f8d",
   "metadata": {},
   "outputs": [],
   "source": [
    "# k = []\n",
    "# for i in range(len(data)):\n",
    "#     if type(data.iloc[i, 3]) != float:\n",
    "#         k.append(i)\n",
    "# print(data.drop(labels=k, inplace=True))"
   ]
  },
  {
   "cell_type": "markdown",
   "id": "2d90566b-0e35-4fda-a051-dd7d8e6a1516",
   "metadata": {},
   "source": [
    "16.绘制成交量的密度曲线"
   ]
  },
  {
   "cell_type": "code",
   "execution_count": 19,
   "id": "f2cd9885-546b-4a4e-972c-d3a923a3ef5f",
   "metadata": {},
   "outputs": [
    {
     "data": {
      "text/plain": [
       "<Axes: ylabel='Density'>"
      ]
     },
     "execution_count": 19,
     "metadata": {},
     "output_type": "execute_result"
    },
    {
     "data": {
      "image/png": "[encoded data removed]",
      "text/plain": [
       "<Figure size 600x450 with 1 Axes>"
      ]
     },
     "metadata": {},
     "output_type": "display_data"
    }
   ],
   "source": [
    "# data\n",
    "data['Volume'].plot(kind='kde')"
   ]
  },
  {
   "cell_type": "markdown",
   "id": "1a42b67f-83d2-4aa5-a529-8179be915bbe",
   "metadata": {},
   "source": [
    "17.计算前一天和后一天收盘价的差值"
   ]
  },
  {
   "cell_type": "code",
   "execution_count": 20,
   "id": "b1b714e8-33b6-4632-9b5c-b3479b273772",
   "metadata": {},
   "outputs": [
    {
     "data": {
      "text/plain": [
       "0          NaN\n",
       "1       -4.200\n",
       "2       -3.030\n",
       "3        1.000\n",
       "4        1.030\n",
       "         ...  \n",
       "3181    -7.530\n",
       "3182   -14.080\n",
       "3183    22.870\n",
       "3184    -5.820\n",
       "3185     1.470\n",
       "Name: Close, Length: 3186, dtype: float64"
      ]
     },
     "execution_count": 20,
     "metadata": {},
     "output_type": "execute_result"
    }
   ],
   "source": [
    "data['Close'].diff() # diff()计算两条临近记录的差值"
   ]
  },
  {
   "cell_type": "markdown",
   "id": "910eedcd-6bec-4aa5-9571-f35ca7fbe97a",
   "metadata": {},
   "source": [
    "18.计算前一天和后一天收盘价变化率"
   ]
  },
  {
   "cell_type": "code",
   "execution_count": 22,
   "id": "7eadd6a3-3dcc-4da2-a3ba-59f4a1a4d628",
   "metadata": {},
   "outputs": [
    {
     "data": {
      "text/plain": [
       "0         NaN\n",
       "1      -0.110\n",
       "2      -0.089\n",
       "3       0.032\n",
       "4       0.032\n",
       "        ...  \n",
       "3181   -0.012\n",
       "3182   -0.023\n",
       "3183    0.038\n",
       "3184   -0.009\n",
       "3185    0.002\n",
       "Name: Close, Length: 3186, dtype: float64"
      ]
     },
     "execution_count": 22,
     "metadata": {},
     "output_type": "execute_result"
    }
   ],
   "source": [
    "data['Close'].pct_change(fill_method=None)"
   ]
  },
  {
   "cell_type": "markdown",
   "id": "6df6c715-7103-40e1-b855-6c081d93cc85",
   "metadata": {},
   "source": [
    "19.设置日期为索引"
   ]
  },
  {
   "cell_type": "code",
   "execution_count": 23,
   "id": "c0a40365-d90b-4cad-89a0-9ab3687dccd0",
   "metadata": {},
   "outputs": [
    {
     "data": {
      "text/html": [
       "<div>\n",
       "<style scoped>\n",
       "    .dataframe tbody tr th:only-of-type {\n",
       "        vertical-align: middle;\n",
       "    }\n",
       "\n",
       "    .dataframe tbody tr th {\n",
       "        vertical-align: top;\n",
       "    }\n",
       "\n",
       "    .dataframe thead th {\n",
       "        text-align: right;\n",
       "    }\n",
       "</style>\n",
       "<table border=\"1\" class=\"dataframe\">\n",
       "  <thead>\n",
       "    <tr style=\"text-align: right;\">\n",
       "      <th></th>\n",
       "      <th>Open</th>\n",
       "      <th>High</th>\n",
       "      <th>Low</th>\n",
       "      <th>Close</th>\n",
       "      <th>Adj Close</th>\n",
       "      <th>Volume</th>\n",
       "      <th>Amplitude</th>\n",
       "    </tr>\n",
       "    <tr>\n",
       "      <th>Date</th>\n",
       "      <th></th>\n",
       "      <th></th>\n",
       "      <th></th>\n",
       "      <th></th>\n",
       "      <th></th>\n",
       "      <th></th>\n",
       "      <th></th>\n",
       "    </tr>\n",
       "  </thead>\n",
       "  <tbody>\n",
       "    <tr>\n",
       "      <th>2012-05-18</th>\n",
       "      <td>42.050</td>\n",
       "      <td>45.000</td>\n",
       "      <td>38.000</td>\n",
       "      <td>38.230</td>\n",
       "      <td>38.085</td>\n",
       "      <td>573576400</td>\n",
       "      <td>18.421</td>\n",
       "    </tr>\n",
       "    <tr>\n",
       "      <th>2012-05-21</th>\n",
       "      <td>36.530</td>\n",
       "      <td>36.660</td>\n",
       "      <td>33.000</td>\n",
       "      <td>34.030</td>\n",
       "      <td>33.901</td>\n",
       "      <td>168192700</td>\n",
       "      <td>11.091</td>\n",
       "    </tr>\n",
       "    <tr>\n",
       "      <th>2012-05-22</th>\n",
       "      <td>32.610</td>\n",
       "      <td>33.590</td>\n",
       "      <td>30.940</td>\n",
       "      <td>31.000</td>\n",
       "      <td>30.882</td>\n",
       "      <td>101786600</td>\n",
       "      <td>8.565</td>\n",
       "    </tr>\n",
       "    <tr>\n",
       "      <th>2012-05-23</th>\n",
       "      <td>31.370</td>\n",
       "      <td>32.500</td>\n",
       "      <td>31.360</td>\n",
       "      <td>32.000</td>\n",
       "      <td>31.878</td>\n",
       "      <td>73600000</td>\n",
       "      <td>3.635</td>\n",
       "    </tr>\n",
       "    <tr>\n",
       "      <th>2012-05-24</th>\n",
       "      <td>32.950</td>\n",
       "      <td>33.210</td>\n",
       "      <td>31.770</td>\n",
       "      <td>33.030</td>\n",
       "      <td>32.904</td>\n",
       "      <td>50237200</td>\n",
       "      <td>4.533</td>\n",
       "    </tr>\n",
       "    <tr>\n",
       "      <th>...</th>\n",
       "      <td>...</td>\n",
       "      <td>...</td>\n",
       "      <td>...</td>\n",
       "      <td>...</td>\n",
       "      <td>...</td>\n",
       "      <td>...</td>\n",
       "      <td>...</td>\n",
       "    </tr>\n",
       "    <tr>\n",
       "      <th>2025-01-13</th>\n",
       "      <td>607.100</td>\n",
       "      <td>608.970</td>\n",
       "      <td>598.450</td>\n",
       "      <td>608.330</td>\n",
       "      <td>608.330</td>\n",
       "      <td>10785000</td>\n",
       "      <td>1.758</td>\n",
       "    </tr>\n",
       "    <tr>\n",
       "      <th>2025-01-14</th>\n",
       "      <td>605.070</td>\n",
       "      <td>605.490</td>\n",
       "      <td>588.550</td>\n",
       "      <td>594.250</td>\n",
       "      <td>594.250</td>\n",
       "      <td>13598000</td>\n",
       "      <td>2.878</td>\n",
       "    </tr>\n",
       "    <tr>\n",
       "      <th>2025-01-15</th>\n",
       "      <td>610.210</td>\n",
       "      <td>622.460</td>\n",
       "      <td>606.500</td>\n",
       "      <td>617.120</td>\n",
       "      <td>617.120</td>\n",
       "      <td>15524300</td>\n",
       "      <td>2.631</td>\n",
       "    </tr>\n",
       "    <tr>\n",
       "      <th>2025-01-16</th>\n",
       "      <td>611.500</td>\n",
       "      <td>616.250</td>\n",
       "      <td>609.710</td>\n",
       "      <td>611.300</td>\n",
       "      <td>611.300</td>\n",
       "      <td>8355300</td>\n",
       "      <td>1.073</td>\n",
       "    </tr>\n",
       "    <tr>\n",
       "      <th>2025-01-17</th>\n",
       "      <td>624.050</td>\n",
       "      <td>624.970</td>\n",
       "      <td>603.670</td>\n",
       "      <td>612.770</td>\n",
       "      <td>612.770</td>\n",
       "      <td>17244000</td>\n",
       "      <td>3.528</td>\n",
       "    </tr>\n",
       "  </tbody>\n",
       "</table>\n",
       "<p>3186 rows × 7 columns</p>\n",
       "</div>"
      ],
      "text/plain": [
       "              Open    High     Low   Close  Adj Close     Volume  Amplitude\n",
       "Date                                                                       \n",
       "2012-05-18  42.050  45.000  38.000  38.230     38.085  573576400     18.421\n",
       "2012-05-21  36.530  36.660  33.000  34.030     33.901  168192700     11.091\n",
       "2012-05-22  32.610  33.590  30.940  31.000     30.882  101786600      8.565\n",
       "2012-05-23  31.370  32.500  31.360  32.000     31.878   73600000      3.635\n",
       "2012-05-24  32.950  33.210  31.770  33.030     32.904   50237200      4.533\n",
       "...            ...     ...     ...     ...        ...        ...        ...\n",
       "2025-01-13 607.100 608.970 598.450 608.330    608.330   10785000      1.758\n",
       "2025-01-14 605.070 605.490 588.550 594.250    594.250   13598000      2.878\n",
       "2025-01-15 610.210 622.460 606.500 617.120    617.120   15524300      2.631\n",
       "2025-01-16 611.500 616.250 609.710 611.300    611.300    8355300      1.073\n",
       "2025-01-17 624.050 624.970 603.670 612.770    612.770   17244000      3.528\n",
       "\n",
       "[3186 rows x 7 columns]"
      ]
     },
     "execution_count": 23,
     "metadata": {},
     "output_type": "execute_result"
    }
   ],
   "source": [
    "data.set_index('Date')"
   ]
  },
  {
   "cell_type": "markdown",
   "id": "827a1c06-0e75-47fc-948a-36e98ea2e3bf",
   "metadata": {},
   "source": [
    "20. 以5个数据作为一个数据滑动窗口，在这5个数据上取均值（收盘价）"
   ]
  },
  {
   "cell_type": "code",
   "execution_count": 24,
   "id": "269d779b-a235-4796-87d6-af9736c9cd71",
   "metadata": {},
   "outputs": [
    {
     "data": {
      "text/plain": [
       "0          NaN\n",
       "1          NaN\n",
       "2          NaN\n",
       "3          NaN\n",
       "4       33.658\n",
       "         ...  \n",
       "3181   616.600\n",
       "3182   609.410\n",
       "3183   609.256\n",
       "3184   609.372\n",
       "3185   608.754\n",
       "Name: Close, Length: 3186, dtype: float64"
      ]
     },
     "execution_count": 24,
     "metadata": {},
     "output_type": "execute_result"
    }
   ],
   "source": [
    "data['Close'].rolling(5).mean()"
   ]
  },
  {
   "cell_type": "markdown",
   "id": "5a6c1a22-2b3e-4d3c-948a-0c5c213252e9",
   "metadata": {},
   "source": [
    "21. 以5个数据作为一个数据滑动窗口，计算这5个数据总和（收盘价）"
   ]
  },
  {
   "cell_type": "code",
   "execution_count": 25,
   "id": "a2ff737a-9990-4fb3-8e35-afd5650602bc",
   "metadata": {},
   "outputs": [
    {
     "data": {
      "text/plain": [
       "0            NaN\n",
       "1            NaN\n",
       "2            NaN\n",
       "3            NaN\n",
       "4        168.290\n",
       "          ...   \n",
       "3181   3,083.000\n",
       "3182   3,047.050\n",
       "3183   3,046.280\n",
       "3184   3,046.860\n",
       "3185   3,043.770\n",
       "Name: Close, Length: 3186, dtype: float64"
      ]
     },
     "execution_count": 25,
     "metadata": {},
     "output_type": "execute_result"
    }
   ],
   "source": [
    "data['Close'].rolling(5).sum()"
   ]
  },
  {
   "cell_type": "markdown",
   "id": "22959e4b-e682-47e3-b018-d08bd4a52e8f",
   "metadata": {},
   "source": [
    "22. 以收盘价5日均线、20日均线与原始数据绘制在同一图上"
   ]
  },
  {
   "cell_type": "code",
   "execution_count": 26,
   "id": "3c71a92e-9f00-42cc-8c37-aba38fa1c4d6",
   "metadata": {},
   "outputs": [
    {
     "data": {
      "text/plain": [
       "<Axes: >"
      ]
     },
     "execution_count": 26,
     "metadata": {},
     "output_type": "execute_result"
    },
    {
     "data": {
      "image/png": "[encoded data removed]",
      "text/plain": [
       "<Figure size 600x450 with 1 Axes>"
      ]
     },
     "metadata": {},
     "output_type": "display_data"
    }
   ],
   "source": [
    "data['Close'].plot()\n",
    "data['Close'].rolling(5).mean().plot()\n",
    "data['Close'].rolling(20).mean().plot()"
   ]
  },
  {
   "cell_type": "markdown",
   "id": "2154d505-24af-4d96-b986-43f87eeacc76",
   "metadata": {},
   "source": [
    "23.按周为采样规则，取一周收盘价最大值"
   ]
  },
  {
   "cell_type": "code",
   "execution_count": 27,
   "id": "789c046b-27c2-4655-8bd4-65a1944d3644",
   "metadata": {},
   "outputs": [
    {
     "data": {
      "text/plain": [
       "Datetime\n",
       "2012-05-20    38.230\n",
       "2012-05-27    34.030\n",
       "2012-06-03    29.600\n",
       "2012-06-10    27.100\n",
       "2012-06-17    30.010\n",
       "               ...  \n",
       "2024-12-22   624.240\n",
       "2024-12-29   607.750\n",
       "2025-01-05   604.630\n",
       "2025-01-12   630.200\n",
       "2025-01-19   617.120\n",
       "Freq: W-SUN, Name: Close, Length: 662, dtype: float64"
      ]
     },
     "execution_count": 27,
     "metadata": {},
     "output_type": "execute_result"
    }
   ],
   "source": [
    "data['Datetime'] = pd.to_datetime(data['Date'])\n",
    "data.set_index('Datetime', inplace=True)\n",
    "res_data2 = data['Close'].resample('W').max()\n",
    "res_data2"
   ]
  },
  {
   "cell_type": "markdown",
   "id": "59153416-4255-4c02-997f-96ae24a2c623",
   "metadata": {},
   "source": [
    "24. 绘制重采样数据与原始数据"
   ]
  },
  {
   "cell_type": "code",
   "execution_count": 29,
   "id": "56f686b8-1fa0-47d6-98f0-0b43db13ad0a",
   "metadata": {},
   "outputs": [
    {
     "data": {
      "text/plain": [
       "<Axes: xlabel='Datetime'>"
      ]
     },
     "execution_count": 29,
     "metadata": {},
     "output_type": "execute_result"
    },
    {
     "data": {
      "image/png": "[encoded data removed]",
      "text/plain": [
       "<Figure size 600x450 with 1 Axes>"
      ]
     },
     "metadata": {},
     "output_type": "display_data"
    }
   ],
   "source": [
    "data['Close'].plot()\n",
    "data['Close'].resample('7D').max().plot()"
   ]
  },
  {
   "cell_type": "markdown",
   "id": "7a1b59d9-6635-46a8-b027-bd595243ae38",
   "metadata": {},
   "source": [
    "25. 将数据往后移动5天"
   ]
  },
  {
   "cell_type": "code",
   "execution_count": 30,
   "id": "fcacee47-5cbc-47b4-97ac-335880c487ff",
   "metadata": {},
   "outputs": [
    {
     "data": {
      "text/html": [
       "<div>\n",
       "<style scoped>\n",
       "    .dataframe tbody tr th:only-of-type {\n",
       "        vertical-align: middle;\n",
       "    }\n",
       "\n",
       "    .dataframe tbody tr th {\n",
       "        vertical-align: top;\n",
       "    }\n",
       "\n",
       "    .dataframe thead th {\n",
       "        text-align: right;\n",
       "    }\n",
       "</style>\n",
       "<table border=\"1\" class=\"dataframe\">\n",
       "  <thead>\n",
       "    <tr style=\"text-align: right;\">\n",
       "      <th></th>\n",
       "      <th>Date</th>\n",
       "      <th>Open</th>\n",
       "      <th>High</th>\n",
       "      <th>Low</th>\n",
       "      <th>Close</th>\n",
       "      <th>Adj Close</th>\n",
       "      <th>Volume</th>\n",
       "      <th>Amplitude</th>\n",
       "    </tr>\n",
       "    <tr>\n",
       "      <th>Datetime</th>\n",
       "      <th></th>\n",
       "      <th></th>\n",
       "      <th></th>\n",
       "      <th></th>\n",
       "      <th></th>\n",
       "      <th></th>\n",
       "      <th></th>\n",
       "      <th></th>\n",
       "    </tr>\n",
       "  </thead>\n",
       "  <tbody>\n",
       "    <tr>\n",
       "      <th>2012-05-18</th>\n",
       "      <td>None</td>\n",
       "      <td>NaN</td>\n",
       "      <td>NaN</td>\n",
       "      <td>NaN</td>\n",
       "      <td>NaN</td>\n",
       "      <td>NaN</td>\n",
       "      <td>NaN</td>\n",
       "      <td>NaN</td>\n",
       "    </tr>\n",
       "    <tr>\n",
       "      <th>2012-05-21</th>\n",
       "      <td>None</td>\n",
       "      <td>NaN</td>\n",
       "      <td>NaN</td>\n",
       "      <td>NaN</td>\n",
       "      <td>NaN</td>\n",
       "      <td>NaN</td>\n",
       "      <td>NaN</td>\n",
       "      <td>NaN</td>\n",
       "    </tr>\n",
       "    <tr>\n",
       "      <th>2012-05-22</th>\n",
       "      <td>None</td>\n",
       "      <td>NaN</td>\n",
       "      <td>NaN</td>\n",
       "      <td>NaN</td>\n",
       "      <td>NaN</td>\n",
       "      <td>NaN</td>\n",
       "      <td>NaN</td>\n",
       "      <td>NaN</td>\n",
       "    </tr>\n",
       "    <tr>\n",
       "      <th>2012-05-23</th>\n",
       "      <td>None</td>\n",
       "      <td>NaN</td>\n",
       "      <td>NaN</td>\n",
       "      <td>NaN</td>\n",
       "      <td>NaN</td>\n",
       "      <td>NaN</td>\n",
       "      <td>NaN</td>\n",
       "      <td>NaN</td>\n",
       "    </tr>\n",
       "    <tr>\n",
       "      <th>2012-05-24</th>\n",
       "      <td>None</td>\n",
       "      <td>NaN</td>\n",
       "      <td>NaN</td>\n",
       "      <td>NaN</td>\n",
       "      <td>NaN</td>\n",
       "      <td>NaN</td>\n",
       "      <td>NaN</td>\n",
       "      <td>NaN</td>\n",
       "    </tr>\n",
       "    <tr>\n",
       "      <th>...</th>\n",
       "      <td>...</td>\n",
       "      <td>...</td>\n",
       "      <td>...</td>\n",
       "      <td>...</td>\n",
       "      <td>...</td>\n",
       "      <td>...</td>\n",
       "      <td>...</td>\n",
       "      <td>...</td>\n",
       "    </tr>\n",
       "    <tr>\n",
       "      <th>2025-01-13</th>\n",
       "      <td>2025-01-03</td>\n",
       "      <td>604.760</td>\n",
       "      <td>609.500</td>\n",
       "      <td>596.410</td>\n",
       "      <td>604.630</td>\n",
       "      <td>604.630</td>\n",
       "      <td>11,436,800.000</td>\n",
       "      <td>2.195</td>\n",
       "    </tr>\n",
       "    <tr>\n",
       "      <th>2025-01-14</th>\n",
       "      <td>2025-01-06</td>\n",
       "      <td>611.830</td>\n",
       "      <td>630.990</td>\n",
       "      <td>605.620</td>\n",
       "      <td>630.200</td>\n",
       "      <td>630.200</td>\n",
       "      <td>14,560,800.000</td>\n",
       "      <td>4.189</td>\n",
       "    </tr>\n",
       "    <tr>\n",
       "      <th>2025-01-15</th>\n",
       "      <td>2025-01-07</td>\n",
       "      <td>631.700</td>\n",
       "      <td>632.100</td>\n",
       "      <td>608.230</td>\n",
       "      <td>617.890</td>\n",
       "      <td>617.890</td>\n",
       "      <td>12,071,500.000</td>\n",
       "      <td>3.925</td>\n",
       "    </tr>\n",
       "    <tr>\n",
       "      <th>2025-01-16</th>\n",
       "      <td>2025-01-08</td>\n",
       "      <td>613.400</td>\n",
       "      <td>616.440</td>\n",
       "      <td>602.790</td>\n",
       "      <td>610.720</td>\n",
       "      <td>610.720</td>\n",
       "      <td>10,085,800.000</td>\n",
       "      <td>2.264</td>\n",
       "    </tr>\n",
       "    <tr>\n",
       "      <th>2025-01-17</th>\n",
       "      <td>2025-01-10</td>\n",
       "      <td>610.030</td>\n",
       "      <td>629.910</td>\n",
       "      <td>597.340</td>\n",
       "      <td>615.860</td>\n",
       "      <td>615.860</td>\n",
       "      <td>19,256,600.000</td>\n",
       "      <td>5.452</td>\n",
       "    </tr>\n",
       "  </tbody>\n",
       "</table>\n",
       "<p>3186 rows × 8 columns</p>\n",
       "</div>"
      ],
      "text/plain": [
       "                  Date    Open    High     Low   Close  Adj Close  \\\n",
       "Datetime                                                            \n",
       "2012-05-18        None     NaN     NaN     NaN     NaN        NaN   \n",
       "2012-05-21        None     NaN     NaN     NaN     NaN        NaN   \n",
       "2012-05-22        None     NaN     NaN     NaN     NaN        NaN   \n",
       "2012-05-23        None     NaN     NaN     NaN     NaN        NaN   \n",
       "2012-05-24        None     NaN     NaN     NaN     NaN        NaN   \n",
       "...                ...     ...     ...     ...     ...        ...   \n",
       "2025-01-13  2025-01-03 604.760 609.500 596.410 604.630    604.630   \n",
       "2025-01-14  2025-01-06 611.830 630.990 605.620 630.200    630.200   \n",
       "2025-01-15  2025-01-07 631.700 632.100 608.230 617.890    617.890   \n",
       "2025-01-16  2025-01-08 613.400 616.440 602.790 610.720    610.720   \n",
       "2025-01-17  2025-01-10 610.030 629.910 597.340 615.860    615.860   \n",
       "\n",
       "                   Volume  Amplitude  \n",
       "Datetime                              \n",
       "2012-05-18            NaN        NaN  \n",
       "2012-05-21            NaN        NaN  \n",
       "2012-05-22            NaN        NaN  \n",
       "2012-05-23            NaN        NaN  \n",
       "2012-05-24            NaN        NaN  \n",
       "...                   ...        ...  \n",
       "2025-01-13 11,436,800.000      2.195  \n",
       "2025-01-14 14,560,800.000      4.189  \n",
       "2025-01-15 12,071,500.000      3.925  \n",
       "2025-01-16 10,085,800.000      2.264  \n",
       "2025-01-17 19,256,600.000      5.452  \n",
       "\n",
       "[3186 rows x 8 columns]"
      ]
     },
     "execution_count": 30,
     "metadata": {},
     "output_type": "execute_result"
    }
   ],
   "source": [
    "data.shift(5)"
   ]
  },
  {
   "cell_type": "code",
   "execution_count": null,
   "id": "54dadaba-fffe-4a58-8d56-128d59c64ce5",
   "metadata": {},
   "outputs": [],
   "source": [
    "# 中文报错方法\n",
    "plt.rcParams['font.sans-serif'] = ['SimHei']\n",
    "plt.rcParams['axes.unicode_min'] = False"
   ]
  }
 ],
 "metadata": {
  "kernelspec": {
   "display_name": "Python [conda env:base] *",
   "language": "python",
   "name": "conda-base-py"
  },
  "language_info": {
   "codemirror_mode": {
    "name": "ipython",
    "version": 3
   },
   "file_extension": ".py",
   "mimetype": "text/x-python",
   "name": "python",
   "nbconvert_exporter": "python",
   "pygments_lexer": "ipython3",
   "version": "3.13.5"
  }
 },
 "nbformat": 4,
 "nbformat_minor": 5
}
